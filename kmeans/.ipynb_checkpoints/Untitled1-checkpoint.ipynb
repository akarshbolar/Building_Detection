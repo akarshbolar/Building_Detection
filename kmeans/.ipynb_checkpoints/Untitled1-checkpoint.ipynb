{
 "cells": [
  {
   "cell_type": "code",
   "execution_count": null,
   "metadata": {
    "collapsed": true
   },
   "outputs": [],
   "source": [
    "import numpy as np\n",
    "import os\n",
    "from osgeo import gdal\n",
    "from sklearn.ensemble import RandomForestClassifier\n",
    "from scipy.misc import imsave\n",
    "from scipy.cluster.vq import *\n",
    "import csv\n",
    "import cv2\n",
    "from skimage.segmentation import slic\n",
    "from skimage.feature import greycomatrix, greycoprops\n",
    "from skimage.util import img_as_float"
   ]
  }
 ],
 "metadata": {
  "kernelspec": {
   "display_name": "Python 2",
   "language": "python",
   "name": "python2"
  },
  "language_info": {
   "codemirror_mode": {
    "name": "ipython",
    "version": 2
   },
   "file_extension": ".py",
   "mimetype": "text/x-python",
   "name": "python",
   "nbconvert_exporter": "python",
   "pygments_lexer": "ipython2",
   "version": "2.7.14"
  }
 },
 "nbformat": 4,
 "nbformat_minor": 2
}
